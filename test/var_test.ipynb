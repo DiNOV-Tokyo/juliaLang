{
 "cells": [
  {
   "cell_type": "code",
   "execution_count": 9,
   "metadata": {},
   "outputs": [
    {
     "data": {
      "text/plain": [
       "Variance F-test\n",
       "---------------\n",
       "Population details:\n",
       "    parameter of interest:   variance ratio\n",
       "    value under h_0:         1.0\n",
       "    point estimate:          1.125471972117339\n",
       "\n",
       "Test summary:\n",
       "    outcome with 95% confidence: fail to reject h_0\n",
       "    two-sided p-value:           0.8481\n",
       "\n",
       "Details:\n",
       "    number of observations: [12, 12]\n",
       "    F statistic:            1.125471972117339\n",
       "    degrees of freedom:     [11, 11]\n"
      ]
     },
     "execution_count": 9,
     "metadata": {},
     "output_type": "execute_result"
    }
   ],
   "source": [
    "using DataFrames, DataFramesMeta, HypothesisTests\n",
    "\n",
    "dat = DataFrame(x1=[1.1, 1.2, 1, 2.2, 1.9, 2, 0.9, 1, 1, 2.2, 2, 2], x2=[1.2, 1.3, 1, 2.3, 2.1, 2.0, 1.2, 1, 1, 2, 2, 2]);\n",
    "\n",
    "VarianceFTest(dat.x1, dat.x2)"
   ]
  },
  {
   "cell_type": "code",
   "execution_count": null,
   "metadata": {},
   "outputs": [],
   "source": []
  }
 ],
 "metadata": {
  "kernelspec": {
   "display_name": "Julia 1.4.0",
   "language": "julia",
   "name": "julia-1.4"
  },
  "language_info": {
   "file_extension": ".jl",
   "mimetype": "application/julia",
   "name": "julia",
   "version": "1.4.0"
  }
 },
 "nbformat": 4,
 "nbformat_minor": 2
}
