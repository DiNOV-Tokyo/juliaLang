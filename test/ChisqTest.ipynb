{
  "nbformat": 4,
  "nbformat_minor": 0,
  "metadata": {
    "colab": {
      "name": "ChisqTest.ipynb ",
      "provenance": [],
      "collapsed_sections": []
    },
    "kernelspec": {
      "name": "julia-1.2",
      "display_name": "Julia 1.2"
    }
  },
  "cells": [
    {
      "cell_type": "code",
      "metadata": {
        "id": "oMSuTc3pDlHv",
        "colab_type": "code",
        "outputId": "79b07b93-130a-4a41-ab6d-095484f243a2",
        "colab": {
          "base_uri": "https://localhost:8080/",
          "height": 903
        }
      },
      "source": [
        "!curl -sSL \"https://julialang-s3.julialang.org/bin/linux/x64/1.2/julia-1.2.0-linux-x86_64.tar.gz\" -o julia.tar.gz\n",
        "!tar -xzf julia.tar.gz -C /usr --strip-components 1\n",
        "!rm -rf julia.tar.gz*\n",
        "!julia -e 'using Pkg; pkg\"add IJulia; precompile\"'"
      ],
      "execution_count": 0,
      "outputs": [
        {
          "output_type": "stream",
          "text": [
            "   Cloning default registries into `~/.julia`\n",
            "   Cloning registry from \"https://github.com/JuliaRegistries/General.git\"\n",
            "\u001b[2K\u001b[?25h     Added registry `General` to `~/.julia/registries/General`\n",
            " Resolving package versions...\n",
            " Installed VersionParsing ── v1.2.0\n",
            " Installed Parsers ───────── v1.0.2\n",
            " Installed Conda ─────────── v1.4.1\n",
            " Installed MbedTLS ───────── v0.7.0\n",
            " Installed IJulia ────────── v1.21.2\n",
            " Installed JSON ──────────── v0.21.0\n",
            " Installed ZMQ ───────────── v1.1.0\n",
            " Installed BinaryProvider ── v0.5.8\n",
            " Installed SoftGlobalScope ─ v1.0.10\n",
            "  Updating `~/.julia/environments/v1.2/Project.toml`\n",
            "  [7073ff75] + IJulia v1.21.2\n",
            "  Updating `~/.julia/environments/v1.2/Manifest.toml`\n",
            "  [b99e7846] + BinaryProvider v0.5.8\n",
            "  [8f4d0f93] + Conda v1.4.1\n",
            "  [7073ff75] + IJulia v1.21.2\n",
            "  [682c06a0] + JSON v0.21.0\n",
            "  [739be429] + MbedTLS v0.7.0\n",
            "  [69de0a69] + Parsers v1.0.2\n",
            "  [b85f4697] + SoftGlobalScope v1.0.10\n",
            "  [81def892] + VersionParsing v1.2.0\n",
            "  [c2297ded] + ZMQ v1.1.0\n",
            "  [2a0f44e3] + Base64 \n",
            "  [ade2ca70] + Dates \n",
            "  [8ba89e20] + Distributed \n",
            "  [7b1f6079] + FileWatching \n",
            "  [b77e0a4c] + InteractiveUtils \n",
            "  [76f85450] + LibGit2 \n",
            "  [8f399da3] + Libdl \n",
            "  [56ddb016] + Logging \n",
            "  [d6f4376e] + Markdown \n",
            "  [a63ad114] + Mmap \n",
            "  [44cfe95a] + Pkg \n",
            "  [de0858da] + Printf \n",
            "  [3fa0cd96] + REPL \n",
            "  [9a3f8284] + Random \n",
            "  [ea8e919c] + SHA \n",
            "  [9e88b42a] + Serialization \n",
            "  [6462fe0b] + Sockets \n",
            "  [8dfed614] + Test \n",
            "  [cf7118a7] + UUIDs \n",
            "  [4ec0a83e] + Unicode \n",
            "  Building Conda ──→ `~/.julia/packages/Conda/3rPhK/deps/build.log`\n",
            "  Building ZMQ ────→ `~/.julia/packages/ZMQ/ItfqT/deps/build.log`\n",
            "  Building MbedTLS → `~/.julia/packages/MbedTLS/a1JFn/deps/build.log`\n",
            "  Building IJulia ─→ `~/.julia/packages/IJulia/DrVMH/deps/build.log`\n",
            "Precompiling project...\n",
            "Precompiling IJulia\n"
          ],
          "name": "stdout"
        }
      ]
    },
    {
      "cell_type": "code",
      "metadata": {
        "id": "N4DD3LItFPFC",
        "colab_type": "code",
        "outputId": "85842aaf-493e-403d-f285-531b1e7c1d0e",
        "colab": {
          "base_uri": "https://localhost:8080/",
          "height": 156
        }
      },
      "source": [
        "versioninfo()"
      ],
      "execution_count": 0,
      "outputs": [
        {
          "output_type": "stream",
          "text": [
            "Julia Version 1.2.0\n",
            "Commit c6da87ff4b (2019-08-20 00:03 UTC)\n",
            "Platform Info:\n",
            "  OS: Linux (x86_64-pc-linux-gnu)\n",
            "  CPU: Intel(R) Xeon(R) CPU @ 2.20GHz\n",
            "  WORD_SIZE: 64\n",
            "  LIBM: libopenlibm\n",
            "  LLVM: libLLVM-6.0.1 (ORCJIT, broadwell)\n"
          ],
          "name": "stdout"
        }
      ]
    },
    {
      "cell_type": "code",
      "metadata": {
        "id": "MBrc6457Fvid",
        "colab_type": "code",
        "outputId": "369e3afe-c666-41e2-98e9-94cbd9b95f56",
        "colab": {
          "base_uri": "https://localhost:8080/",
          "height": 1000
        }
      },
      "source": [
        "using Pkg\n",
        "Pkg.add(\"Distributions\")\n",
        "Pkg.add(\"Plots\")\n",
        "Pkg.add(\"Statistics\")\n",
        "Pkg.add(\"HypothesisTests\")\n",
        "\n",
        "#Pkg.add(\"https://github.com/JuliaPlots/StatsPlots.jl\")\n",
        "Pkg.add(PackageSpec(path=\"https://github.com/JuliaPlots/StatsPlots.jl\"))\n",
        "Pkg.add(\"StatsPlots\")\n",
        "Pkg.add(\"Distances\")\n",
        "Pkg.add(\"LinearAlgebra\")\n",
        "\n",
        "using Distributions\n",
        "using Plots\n",
        "using Distributions\n",
        "using StatsPlots\n",
        "using Statistics\n",
        "using HypothesisTests\n",
        "\n",
        "\n",
        "# ２項分布の確率密度関数の定義\n",
        "n=200  # nを十分大きくとる\n",
        "p=1/100  # pを十分小さくとる\n",
        "d1= Distributions.Binomial(big(n), big(p))\n",
        "\n",
        "# ポアソン分布の確率密度関数の定義\n",
        "l=n*p   # 平均値だけわかればよい\n",
        "d2=Poisson(l)\n",
        "\n",
        "pdf.(d1,0:10)   # ２項分布の出力\n",
        "\n",
        "pdf.(d2,0:10)   # ２項分布の出力\n",
        "\n",
        "d=Poisson(0.61)\n",
        "plot(d,fill=(0, .5,:orange))\n",
        "scatter(d, leg=false)         # 確率密度を散布図にする\n",
        "bar!(d, func=cdf, alpha=0.3)  # 分布を棒グラフにする"
      ],
      "execution_count": 0,
      "outputs": [
        {
          "output_type": "stream",
          "text": [
            "\u001b[32m\u001b[1m Resolving\u001b[22m\u001b[39m package versions...\n",
            "\u001b[32m\u001b[1m  Updating\u001b[22m\u001b[39m `~/.julia/environments/v1.2/Project.toml`\n",
            "\u001b[90m [no changes]\u001b[39m\n",
            "\u001b[32m\u001b[1m  Updating\u001b[22m\u001b[39m `~/.julia/environments/v1.2/Manifest.toml`\n",
            "\u001b[90m [no changes]\u001b[39m\n",
            "\u001b[32m\u001b[1m Resolving\u001b[22m\u001b[39m package versions...\n",
            "\u001b[32m\u001b[1m  Updating\u001b[22m\u001b[39m `~/.julia/environments/v1.2/Project.toml`\n",
            "\u001b[90m [no changes]\u001b[39m\n",
            "\u001b[32m\u001b[1m  Updating\u001b[22m\u001b[39m `~/.julia/environments/v1.2/Manifest.toml`\n",
            "\u001b[90m [no changes]\u001b[39m\n",
            "\u001b[32m\u001b[1m Resolving\u001b[22m\u001b[39m package versions...\n",
            "\u001b[32m\u001b[1m  Updating\u001b[22m\u001b[39m `~/.julia/environments/v1.2/Project.toml`\n",
            "\u001b[90m [no changes]\u001b[39m\n",
            "\u001b[32m\u001b[1m  Updating\u001b[22m\u001b[39m `~/.julia/environments/v1.2/Manifest.toml`\n",
            "\u001b[90m [no changes]\u001b[39m\n",
            "\u001b[32m\u001b[1m Resolving\u001b[22m\u001b[39m package versions...\n",
            "\u001b[32m\u001b[1m  Updating\u001b[22m\u001b[39m `~/.julia/environments/v1.2/Project.toml`\n",
            "\u001b[90m [no changes]\u001b[39m\n",
            "\u001b[32m\u001b[1m  Updating\u001b[22m\u001b[39m `~/.julia/environments/v1.2/Manifest.toml`\n",
            "\u001b[90m [no changes]\u001b[39m\n",
            "\u001b[32m\u001b[1m  Updating\u001b[22m\u001b[39m git-repo `https://github.com/JuliaPlots/StatsPlots.jl`\n",
            "\u001b[?25l\u001b[2K\u001b[?25h\u001b[32m\u001b[1m  Updating\u001b[22m\u001b[39m git-repo `https://github.com/JuliaPlots/StatsPlots.jl`\n",
            "\u001b[?25l\u001b[2K\u001b[?25h\u001b[32m\u001b[1m Resolving\u001b[22m\u001b[39m package versions...\n",
            "\u001b[32m\u001b[1m  Updating\u001b[22m\u001b[39m `~/.julia/environments/v1.2/Project.toml`\n",
            " \u001b[90m [f3b207a7]\u001b[39m\u001b[37m   StatsPlots v0.14.5 #master (https://github.com/JuliaPlots/StatsPlots.jl)\u001b[39m\n",
            "\u001b[32m\u001b[1m  Updating\u001b[22m\u001b[39m `~/.julia/environments/v1.2/Manifest.toml`\n",
            " \u001b[90m [f3b207a7]\u001b[39m\u001b[37m   StatsPlots v0.14.5 #master (https://github.com/JuliaPlots/StatsPlots.jl)\u001b[39m\n",
            "\u001b[32m\u001b[1m Resolving\u001b[22m\u001b[39m package versions...\n",
            "\u001b[32m\u001b[1m  Updating\u001b[22m\u001b[39m `~/.julia/environments/v1.2/Project.toml`\n",
            " \u001b[90m [f3b207a7]\u001b[39m\u001b[37m   StatsPlots v0.14.5\u001b[39m\n",
            "\u001b[32m\u001b[1m  Updating\u001b[22m\u001b[39m `~/.julia/environments/v1.2/Manifest.toml`\n",
            " \u001b[90m [f3b207a7]\u001b[39m\u001b[37m   StatsPlots v0.14.5\u001b[39m\n",
            "\u001b[32m\u001b[1m Resolving\u001b[22m\u001b[39m package versions...\n",
            "\u001b[32m\u001b[1m  Updating\u001b[22m\u001b[39m `~/.julia/environments/v1.2/Project.toml`\n",
            "\u001b[90m [no changes]\u001b[39m\n",
            "\u001b[32m\u001b[1m  Updating\u001b[22m\u001b[39m `~/.julia/environments/v1.2/Manifest.toml`\n",
            "\u001b[90m [no changes]\u001b[39m\n",
            "\u001b[32m\u001b[1m Resolving\u001b[22m\u001b[39m package versions...\n",
            "\u001b[32m\u001b[1m  Updating\u001b[22m\u001b[39m `~/.julia/environments/v1.2/Project.toml`\n",
            " \u001b[90m [37e2e46d]\u001b[39m\u001b[92m + LinearAlgebra \u001b[39m\n",
            "\u001b[32m\u001b[1m  Updating\u001b[22m\u001b[39m `~/.julia/environments/v1.2/Manifest.toml`\n",
            "\u001b[90m [no changes]\u001b[39m\n"
          ],
          "name": "stdout"
        },
        {
          "output_type": "execute_result",
          "data": {
            "image/svg+xml": "<?xml version=\"1.0\" encoding=\"utf-8\"?>\n<svg xmlns=\"http://www.w3.org/2000/svg\" xmlns:xlink=\"http://www.w3.org/1999/xlink\" width=\"600\" height=\"400\" viewBox=\"0 0 2400 1600\">\n<defs>\n  <clipPath id=\"clip0200\">\n    <rect x=\"0\" y=\"0\" width=\"2400\" height=\"1600\"/>\n  </clipPath>\n</defs>\n<path clip-path=\"url(#clip0200)\" d=\"\nM0 1600 L2400 1600 L2400 0 L0 0  Z\n  \" fill=\"#ffffff\" fill-rule=\"evenodd\" fill-opacity=\"1\"/>\n<defs>\n  <clipPath id=\"clip0201\">\n    <rect x=\"480\" y=\"0\" width=\"1681\" height=\"1600\"/>\n  </clipPath>\n</defs>\n<path clip-path=\"url(#clip0200)\" d=\"\nM174.862 1486.45 L2352.76 1486.45 L2352.76 47.2441 L174.862 47.2441  Z\n  \" fill=\"#ffffff\" fill-rule=\"evenodd\" fill-opacity=\"1\"/>\n<defs>\n  <clipPath id=\"clip0202\">\n    <rect x=\"174\" y=\"47\" width=\"2179\" height=\"1440\"/>\n  </clipPath>\n</defs>\n<polyline clip-path=\"url(#clip0202)\" style=\"stroke:#000000; stroke-width:2; stroke-opacity:0.1; fill:none\" points=\"\n  428.327,1486.45 428.327,47.2441 \n  \"/>\n<polyline clip-path=\"url(#clip0202)\" style=\"stroke:#000000; stroke-width:2; stroke-opacity:0.1; fill:none\" points=\"\n  762.52,1486.45 762.52,47.2441 \n  \"/>\n<polyline clip-path=\"url(#clip0202)\" style=\"stroke:#000000; stroke-width:2; stroke-opacity:0.1; fill:none\" points=\"\n  1096.71,1486.45 1096.71,47.2441 \n  \"/>\n<polyline clip-path=\"url(#clip0202)\" style=\"stroke:#000000; stroke-width:2; stroke-opacity:0.1; fill:none\" points=\"\n  1430.91,1486.45 1430.91,47.2441 \n  \"/>\n<polyline clip-path=\"url(#clip0202)\" style=\"stroke:#000000; stroke-width:2; stroke-opacity:0.1; fill:none\" points=\"\n  1765.1,1486.45 1765.1,47.2441 \n  \"/>\n<polyline clip-path=\"url(#clip0202)\" style=\"stroke:#000000; stroke-width:2; stroke-opacity:0.1; fill:none\" points=\"\n  2099.29,1486.45 2099.29,47.2441 \n  \"/>\n<polyline clip-path=\"url(#clip0202)\" style=\"stroke:#000000; stroke-width:2; stroke-opacity:0.1; fill:none\" points=\"\n  174.862,1445.72 2352.76,1445.72 \n  \"/>\n<polyline clip-path=\"url(#clip0202)\" style=\"stroke:#000000; stroke-width:2; stroke-opacity:0.1; fill:none\" points=\"\n  174.862,1106.27 2352.76,1106.27 \n  \"/>\n<polyline clip-path=\"url(#clip0202)\" style=\"stroke:#000000; stroke-width:2; stroke-opacity:0.1; fill:none\" points=\"\n  174.862,766.817 2352.76,766.817 \n  \"/>\n<polyline clip-path=\"url(#clip0202)\" style=\"stroke:#000000; stroke-width:2; stroke-opacity:0.1; fill:none\" points=\"\n  174.862,427.368 2352.76,427.368 \n  \"/>\n<polyline clip-path=\"url(#clip0202)\" style=\"stroke:#000000; stroke-width:2; stroke-opacity:0.1; fill:none\" points=\"\n  174.862,87.9185 2352.76,87.9185 \n  \"/>\n<polyline clip-path=\"url(#clip0200)\" style=\"stroke:#000000; stroke-width:4; stroke-opacity:1; fill:none\" points=\"\n  174.862,1486.45 2352.76,1486.45 \n  \"/>\n<polyline clip-path=\"url(#clip0200)\" style=\"stroke:#000000; stroke-width:4; stroke-opacity:1; fill:none\" points=\"\n  174.862,1486.45 174.862,47.2441 \n  \"/>\n<polyline clip-path=\"url(#clip0200)\" style=\"stroke:#000000; stroke-width:4; stroke-opacity:1; fill:none\" points=\"\n  428.327,1486.45 428.327,1469.18 \n  \"/>\n<polyline clip-path=\"url(#clip0200)\" style=\"stroke:#000000; stroke-width:4; stroke-opacity:1; fill:none\" points=\"\n  762.52,1486.45 762.52,1469.18 \n  \"/>\n<polyline clip-path=\"url(#clip0200)\" style=\"stroke:#000000; stroke-width:4; stroke-opacity:1; fill:none\" points=\"\n  1096.71,1486.45 1096.71,1469.18 \n  \"/>\n<polyline clip-path=\"url(#clip0200)\" style=\"stroke:#000000; stroke-width:4; stroke-opacity:1; fill:none\" points=\"\n  1430.91,1486.45 1430.91,1469.18 \n  \"/>\n<polyline clip-path=\"url(#clip0200)\" style=\"stroke:#000000; stroke-width:4; stroke-opacity:1; fill:none\" points=\"\n  1765.1,1486.45 1765.1,1469.18 \n  \"/>\n<polyline clip-path=\"url(#clip0200)\" style=\"stroke:#000000; stroke-width:4; stroke-opacity:1; fill:none\" points=\"\n  2099.29,1486.45 2099.29,1469.18 \n  \"/>\n<polyline clip-path=\"url(#clip0200)\" style=\"stroke:#000000; stroke-width:4; stroke-opacity:1; fill:none\" points=\"\n  174.862,1445.72 200.997,1445.72 \n  \"/>\n<polyline clip-path=\"url(#clip0200)\" style=\"stroke:#000000; stroke-width:4; stroke-opacity:1; fill:none\" points=\"\n  174.862,1106.27 200.997,1106.27 \n  \"/>\n<polyline clip-path=\"url(#clip0200)\" style=\"stroke:#000000; stroke-width:4; stroke-opacity:1; fill:none\" points=\"\n  174.862,766.817 200.997,766.817 \n  \"/>\n<polyline clip-path=\"url(#clip0200)\" style=\"stroke:#000000; stroke-width:4; stroke-opacity:1; fill:none\" points=\"\n  174.862,427.368 200.997,427.368 \n  \"/>\n<polyline clip-path=\"url(#clip0200)\" style=\"stroke:#000000; stroke-width:4; stroke-opacity:1; fill:none\" points=\"\n  174.862,87.9185 200.997,87.9185 \n  \"/>\n<path clip-path=\"url(#clip0200)\" d=\"M 0 0 M428.327 1508.44 Q424.716 1508.44 422.887 1512 Q421.082 1515.55 421.082 1522.67 Q421.082 1529.78 422.887 1533.35 Q424.716 1536.89 428.327 1536.89 Q431.961 1536.89 433.767 1533.35 Q435.596 1529.78 435.596 1522.67 Q435.596 1515.55 433.767 1512 Q431.961 1508.44 428.327 1508.44 M428.327 1504.73 Q434.137 1504.73 437.193 1509.34 Q440.272 1513.92 440.272 1522.67 Q440.272 1531.4 437.193 1536.01 Q434.137 1540.59 428.327 1540.59 Q422.517 1540.59 419.438 1536.01 Q416.383 1531.4 416.383 1522.67 Q416.383 1513.92 419.438 1509.34 Q422.517 1504.73 428.327 1504.73 Z\" fill=\"#000000\" fill-rule=\"evenodd\" fill-opacity=\"1\" /><path clip-path=\"url(#clip0200)\" d=\"M 0 0 M752.902 1535.98 L760.541 1535.98 L760.541 1509.62 L752.231 1511.29 L752.231 1507.03 L760.494 1505.36 L765.17 1505.36 L765.17 1535.98 L772.809 1535.98 L772.809 1539.92 L752.902 1539.92 L752.902 1535.98 Z\" fill=\"#000000\" fill-rule=\"evenodd\" fill-opacity=\"1\" /><path clip-path=\"url(#clip0200)\" d=\"M 0 0 M1091.37 1535.98 L1107.68 1535.98 L1107.68 1539.92 L1085.74 1539.92 L1085.74 1535.98 Q1088.4 1533.23 1092.99 1528.6 Q1097.59 1523.95 1098.77 1522.61 Q1101.02 1520.08 1101.9 1518.35 Q1102.8 1516.59 1102.8 1514.9 Q1102.8 1512.14 1100.86 1510.41 Q1098.93 1508.67 1095.83 1508.67 Q1093.63 1508.67 1091.18 1509.43 Q1088.75 1510.2 1085.97 1511.75 L1085.97 1507.03 Q1088.8 1505.89 1091.25 1505.31 Q1093.7 1504.73 1095.74 1504.73 Q1101.11 1504.73 1104.31 1507.42 Q1107.5 1510.11 1107.5 1514.6 Q1107.5 1516.73 1106.69 1518.65 Q1105.9 1520.54 1103.8 1523.14 Q1103.22 1523.81 1100.12 1527.03 Q1097.01 1530.22 1091.37 1535.98 Z\" fill=\"#000000\" fill-rule=\"evenodd\" fill-opacity=\"1\" /><path clip-path=\"url(#clip0200)\" d=\"M 0 0 M1435.15 1521.29 Q1438.51 1522 1440.38 1524.27 Q1442.28 1526.54 1442.28 1529.87 Q1442.28 1534.99 1438.76 1537.79 Q1435.25 1540.59 1428.76 1540.59 Q1426.59 1540.59 1424.27 1540.15 Q1421.98 1539.73 1419.53 1538.88 L1419.53 1534.36 Q1421.47 1535.5 1423.79 1536.08 Q1426.1 1536.66 1428.63 1536.66 Q1433.02 1536.66 1435.32 1534.92 Q1437.63 1533.18 1437.63 1529.87 Q1437.63 1526.82 1435.48 1525.11 Q1433.35 1523.37 1429.53 1523.37 L1425.5 1523.37 L1425.5 1519.53 L1429.71 1519.53 Q1433.16 1519.53 1434.99 1518.16 Q1436.82 1516.77 1436.82 1514.18 Q1436.82 1511.52 1434.92 1510.11 Q1433.05 1508.67 1429.53 1508.67 Q1427.61 1508.67 1425.41 1509.09 Q1423.21 1509.5 1420.57 1510.38 L1420.57 1506.22 Q1423.23 1505.48 1425.55 1505.11 Q1427.88 1504.73 1429.94 1504.73 Q1435.27 1504.73 1438.37 1507.17 Q1441.47 1509.57 1441.47 1513.69 Q1441.47 1516.56 1439.83 1518.55 Q1438.19 1520.52 1435.15 1521.29 Z\" fill=\"#000000\" fill-rule=\"evenodd\" fill-opacity=\"1\" /><path clip-path=\"url(#clip0200)\" d=\"M 0 0 M1768.11 1509.43 L1756.3 1527.88 L1768.11 1527.88 L1768.11 1509.43 M1766.88 1505.36 L1772.76 1505.36 L1772.76 1527.88 L1777.69 1527.88 L1777.69 1531.77 L1772.76 1531.77 L1772.76 1539.92 L1768.11 1539.92 L1768.11 1531.77 L1752.51 1531.77 L1752.51 1527.26 L1766.88 1505.36 Z\" fill=\"#000000\" fill-rule=\"evenodd\" fill-opacity=\"1\" /><path clip-path=\"url(#clip0200)\" d=\"M 0 0 M2089.57 1505.36 L2107.92 1505.36 L2107.92 1509.3 L2093.85 1509.3 L2093.85 1517.77 Q2094.87 1517.42 2095.89 1517.26 Q2096.91 1517.07 2097.93 1517.07 Q2103.71 1517.07 2107.09 1520.24 Q2110.47 1523.42 2110.47 1528.83 Q2110.47 1534.41 2107 1537.51 Q2103.53 1540.59 2097.21 1540.59 Q2095.03 1540.59 2092.76 1540.22 Q2090.52 1539.85 2088.11 1539.11 L2088.11 1534.41 Q2090.19 1535.54 2092.42 1536.1 Q2094.64 1536.66 2097.11 1536.66 Q2101.12 1536.66 2103.46 1534.55 Q2105.8 1532.44 2105.8 1528.83 Q2105.8 1525.22 2103.46 1523.11 Q2101.12 1521.01 2097.11 1521.01 Q2095.24 1521.01 2093.36 1521.42 Q2091.51 1521.84 2089.57 1522.72 L2089.57 1505.36 Z\" fill=\"#000000\" fill-rule=\"evenodd\" fill-opacity=\"1\" /><path clip-path=\"url(#clip0200)\" d=\"M 0 0 M74.9365 1431.51 Q71.3254 1431.51 69.4967 1435.08 Q67.6912 1438.62 67.6912 1445.75 Q67.6912 1452.86 69.4967 1456.42 Q71.3254 1459.96 74.9365 1459.96 Q78.5707 1459.96 80.3763 1456.42 Q82.205 1452.86 82.205 1445.75 Q82.205 1438.62 80.3763 1435.08 Q78.5707 1431.51 74.9365 1431.51 M74.9365 1427.81 Q80.7467 1427.81 83.8022 1432.42 Q86.8809 1437 86.8809 1445.75 Q86.8809 1454.48 83.8022 1459.08 Q80.7467 1463.67 74.9365 1463.67 Q69.1264 1463.67 66.0477 1459.08 Q62.9921 1454.48 62.9921 1445.75 Q62.9921 1437 66.0477 1432.42 Q69.1264 1427.81 74.9365 1427.81 Z\" fill=\"#000000\" fill-rule=\"evenodd\" fill-opacity=\"1\" /><path clip-path=\"url(#clip0200)\" d=\"M 0 0 M91.9503 1457.12 L96.8345 1457.12 L96.8345 1463 L91.9503 1463 L91.9503 1457.12 Z\" fill=\"#000000\" fill-rule=\"evenodd\" fill-opacity=\"1\" /><path clip-path=\"url(#clip0200)\" d=\"M 0 0 M111.904 1431.51 Q108.293 1431.51 106.464 1435.08 Q104.659 1438.62 104.659 1445.75 Q104.659 1452.86 106.464 1456.42 Q108.293 1459.96 111.904 1459.96 Q115.538 1459.96 117.344 1456.42 Q119.172 1452.86 119.172 1445.75 Q119.172 1438.62 117.344 1435.08 Q115.538 1431.51 111.904 1431.51 M111.904 1427.81 Q117.714 1427.81 120.77 1432.42 Q123.848 1437 123.848 1445.75 Q123.848 1454.48 120.77 1459.08 Q117.714 1463.67 111.904 1463.67 Q106.094 1463.67 103.015 1459.08 Q99.9595 1454.48 99.9595 1445.75 Q99.9595 1437 103.015 1432.42 Q106.094 1427.81 111.904 1427.81 Z\" fill=\"#000000\" fill-rule=\"evenodd\" fill-opacity=\"1\" /><path clip-path=\"url(#clip0200)\" d=\"M 0 0 M138.918 1431.51 Q135.307 1431.51 133.478 1435.08 Q131.672 1438.62 131.672 1445.75 Q131.672 1452.86 133.478 1456.42 Q135.307 1459.96 138.918 1459.96 Q142.552 1459.96 144.357 1456.42 Q146.186 1452.86 146.186 1445.75 Q146.186 1438.62 144.357 1435.08 Q142.552 1431.51 138.918 1431.51 M138.918 1427.81 Q144.728 1427.81 147.783 1432.42 Q150.862 1437 150.862 1445.75 Q150.862 1454.48 147.783 1459.08 Q144.728 1463.67 138.918 1463.67 Q133.107 1463.67 130.029 1459.08 Q126.973 1454.48 126.973 1445.75 Q126.973 1437 130.029 1432.42 Q133.107 1427.81 138.918 1427.81 Z\" fill=\"#000000\" fill-rule=\"evenodd\" fill-opacity=\"1\" /><path clip-path=\"url(#clip0200)\" d=\"M 0 0 M77.5291 1092.07 Q73.918 1092.07 72.0893 1095.63 Q70.2838 1099.17 70.2838 1106.3 Q70.2838 1113.41 72.0893 1116.97 Q73.918 1120.51 77.5291 1120.51 Q81.1633 1120.51 82.9689 1116.97 Q84.7976 1113.41 84.7976 1106.3 Q84.7976 1099.17 82.9689 1095.63 Q81.1633 1092.07 77.5291 1092.07 M77.5291 1088.36 Q83.3392 1088.36 86.3948 1092.97 Q89.4735 1097.55 89.4735 1106.3 Q89.4735 1115.03 86.3948 1119.63 Q83.3392 1124.22 77.5291 1124.22 Q71.7189 1124.22 68.6402 1119.63 Q65.5847 1115.03 65.5847 1106.3 Q65.5847 1097.55 68.6402 1092.97 Q71.7189 1088.36 77.5291 1088.36 Z\" fill=\"#000000\" fill-rule=\"evenodd\" fill-opacity=\"1\" /><path clip-path=\"url(#clip0200)\" d=\"M 0 0 M94.5429 1117.67 L99.4271 1117.67 L99.4271 1123.55 L94.5429 1123.55 L94.5429 1117.67 Z\" fill=\"#000000\" fill-rule=\"evenodd\" fill-opacity=\"1\" /><path clip-path=\"url(#clip0200)\" d=\"M 0 0 M108.524 1119.61 L124.844 1119.61 L124.844 1123.55 L102.899 1123.55 L102.899 1119.61 Q105.561 1116.86 110.145 1112.23 Q114.751 1107.57 115.932 1106.23 Q118.177 1103.71 119.057 1101.97 Q119.959 1100.21 119.959 1098.52 Q119.959 1095.77 118.015 1094.03 Q116.094 1092.3 112.992 1092.3 Q110.793 1092.3 108.339 1093.06 Q105.909 1093.82 103.131 1095.38 L103.131 1090.65 Q105.955 1089.52 108.409 1088.94 Q110.862 1088.36 112.899 1088.36 Q118.27 1088.36 121.464 1091.05 Q124.658 1093.73 124.658 1098.22 Q124.658 1100.35 123.848 1102.27 Q123.061 1104.17 120.955 1106.76 Q120.376 1107.44 117.274 1110.65 Q114.172 1113.85 108.524 1119.61 Z\" fill=\"#000000\" fill-rule=\"evenodd\" fill-opacity=\"1\" /><path clip-path=\"url(#clip0200)\" d=\"M 0 0 M129.959 1088.99 L148.316 1088.99 L148.316 1092.92 L134.242 1092.92 L134.242 1101.39 Q135.26 1101.05 136.279 1100.88 Q137.297 1100.7 138.316 1100.7 Q144.103 1100.7 147.482 1103.87 Q150.862 1107.04 150.862 1112.46 Q150.862 1118.04 147.39 1121.14 Q143.918 1124.22 137.598 1124.22 Q135.422 1124.22 133.154 1123.85 Q130.908 1123.48 128.501 1122.74 L128.501 1118.04 Q130.584 1119.17 132.807 1119.73 Q135.029 1120.28 137.506 1120.28 Q141.51 1120.28 143.848 1118.18 Q146.186 1116.07 146.186 1112.46 Q146.186 1108.85 143.848 1106.74 Q141.51 1104.63 137.506 1104.63 Q135.631 1104.63 133.756 1105.05 Q131.904 1105.47 129.959 1106.35 L129.959 1088.99 Z\" fill=\"#000000\" fill-rule=\"evenodd\" fill-opacity=\"1\" /><path clip-path=\"url(#clip0200)\" d=\"M 0 0 M75.9319 752.616 Q72.3208 752.616 70.4921 756.181 Q68.6865 759.722 68.6865 766.852 Q68.6865 773.958 70.4921 777.523 Q72.3208 781.065 75.9319 781.065 Q79.5661 781.065 81.3717 777.523 Q83.2004 773.958 83.2004 766.852 Q83.2004 759.722 81.3717 756.181 Q79.5661 752.616 75.9319 752.616 M75.9319 748.912 Q81.742 748.912 84.7976 753.519 Q87.8763 758.102 87.8763 766.852 Q87.8763 775.579 84.7976 780.185 Q81.742 784.768 75.9319 784.768 Q70.1217 784.768 67.043 780.185 Q63.9875 775.579 63.9875 766.852 Q63.9875 758.102 67.043 753.519 Q70.1217 748.912 75.9319 748.912 Z\" fill=\"#000000\" fill-rule=\"evenodd\" fill-opacity=\"1\" /><path clip-path=\"url(#clip0200)\" d=\"M 0 0 M92.9457 778.218 L97.8299 778.218 L97.8299 784.097 L92.9457 784.097 L92.9457 778.218 Z\" fill=\"#000000\" fill-rule=\"evenodd\" fill-opacity=\"1\" /><path clip-path=\"url(#clip0200)\" d=\"M 0 0 M102.946 749.537 L121.302 749.537 L121.302 753.472 L107.228 753.472 L107.228 761.944 Q108.247 761.597 109.265 761.435 Q110.284 761.25 111.302 761.25 Q117.089 761.25 120.469 764.421 Q123.848 767.593 123.848 773.009 Q123.848 778.588 120.376 781.69 Q116.904 784.768 110.584 784.768 Q108.409 784.768 106.14 784.398 Q103.895 784.028 101.487 783.287 L101.487 778.588 Q103.571 779.722 105.793 780.278 Q108.015 780.833 110.492 780.833 Q114.496 780.833 116.834 778.727 Q119.172 776.62 119.172 773.009 Q119.172 769.398 116.834 767.292 Q114.496 765.185 110.492 765.185 Q108.617 765.185 106.742 765.602 Q104.89 766.018 102.946 766.898 L102.946 749.537 Z\" fill=\"#000000\" fill-rule=\"evenodd\" fill-opacity=\"1\" /><path clip-path=\"url(#clip0200)\" d=\"M 0 0 M138.918 752.616 Q135.307 752.616 133.478 756.181 Q131.672 759.722 131.672 766.852 Q131.672 773.958 133.478 777.523 Q135.307 781.065 138.918 781.065 Q142.552 781.065 144.357 777.523 Q146.186 773.958 146.186 766.852 Q146.186 759.722 144.357 756.181 Q142.552 752.616 138.918 752.616 M138.918 748.912 Q144.728 748.912 147.783 753.519 Q150.862 758.102 150.862 766.852 Q150.862 775.579 147.783 780.185 Q144.728 784.768 138.918 784.768 Q133.107 784.768 130.029 780.185 Q126.973 775.579 126.973 766.852 Q126.973 758.102 130.029 753.519 Q133.107 748.912 138.918 748.912 Z\" fill=\"#000000\" fill-rule=\"evenodd\" fill-opacity=\"1\" /><path clip-path=\"url(#clip0200)\" d=\"M 0 0 M76.8346 413.166 Q73.2236 413.166 71.3949 416.731 Q69.5893 420.273 69.5893 427.403 Q69.5893 434.509 71.3949 438.074 Q73.2236 441.615 76.8346 441.615 Q80.4689 441.615 82.2744 438.074 Q84.1031 434.509 84.1031 427.403 Q84.1031 420.273 82.2744 416.731 Q80.4689 413.166 76.8346 413.166 M76.8346 409.463 Q82.6448 409.463 85.7003 414.069 Q88.779 418.653 88.779 427.403 Q88.779 436.129 85.7003 440.736 Q82.6448 445.319 76.8346 445.319 Q71.0245 445.319 67.9458 440.736 Q64.8903 436.129 64.8903 427.403 Q64.8903 418.653 67.9458 414.069 Q71.0245 409.463 76.8346 409.463 Z\" fill=\"#000000\" fill-rule=\"evenodd\" fill-opacity=\"1\" /><path clip-path=\"url(#clip0200)\" d=\"M 0 0 M93.8484 438.768 L98.7327 438.768 L98.7327 444.648 L93.8484 444.648 L93.8484 438.768 Z\" fill=\"#000000\" fill-rule=\"evenodd\" fill-opacity=\"1\" /><path clip-path=\"url(#clip0200)\" d=\"M 0 0 M102.622 410.088 L124.844 410.088 L124.844 412.079 L112.297 444.648 L107.413 444.648 L119.219 414.023 L102.622 414.023 L102.622 410.088 Z\" fill=\"#000000\" fill-rule=\"evenodd\" fill-opacity=\"1\" /><path clip-path=\"url(#clip0200)\" d=\"M 0 0 M129.959 410.088 L148.316 410.088 L148.316 414.023 L134.242 414.023 L134.242 422.495 Q135.26 422.148 136.279 421.986 Q137.297 421.801 138.316 421.801 Q144.103 421.801 147.482 424.972 Q150.862 428.143 150.862 433.56 Q150.862 439.139 147.39 442.24 Q143.918 445.319 137.598 445.319 Q135.422 445.319 133.154 444.949 Q130.908 444.578 128.501 443.838 L128.501 439.139 Q130.584 440.273 132.807 440.828 Q135.029 441.384 137.506 441.384 Q141.51 441.384 143.848 439.277 Q146.186 437.171 146.186 433.56 Q146.186 429.949 143.848 427.842 Q141.51 425.736 137.506 425.736 Q135.631 425.736 133.756 426.153 Q131.904 426.569 129.959 427.449 L129.959 410.088 Z\" fill=\"#000000\" fill-rule=\"evenodd\" fill-opacity=\"1\" /><path clip-path=\"url(#clip0200)\" d=\"M 0 0 M66.9736 101.263 L74.6124 101.263 L74.6124 74.8977 L66.3023 76.5644 L66.3023 72.3052 L74.5661 70.6385 L79.242 70.6385 L79.242 101.263 L86.8809 101.263 L86.8809 105.199 L66.9736 105.199 L66.9736 101.263 Z\" fill=\"#000000\" fill-rule=\"evenodd\" fill-opacity=\"1\" /><path clip-path=\"url(#clip0200)\" d=\"M 0 0 M91.9503 99.3189 L96.8345 99.3189 L96.8345 105.199 L91.9503 105.199 L91.9503 99.3189 Z\" fill=\"#000000\" fill-rule=\"evenodd\" fill-opacity=\"1\" /><path clip-path=\"url(#clip0200)\" d=\"M 0 0 M111.904 73.7172 Q108.293 73.7172 106.464 77.282 Q104.659 80.8236 104.659 87.9532 Q104.659 95.0597 106.464 98.6245 Q108.293 102.166 111.904 102.166 Q115.538 102.166 117.344 98.6245 Q119.172 95.0597 119.172 87.9532 Q119.172 80.8236 117.344 77.282 Q115.538 73.7172 111.904 73.7172 M111.904 70.0135 Q117.714 70.0135 120.77 74.62 Q123.848 79.2033 123.848 87.9532 Q123.848 96.68 120.77 101.286 Q117.714 105.87 111.904 105.87 Q106.094 105.87 103.015 101.286 Q99.9595 96.68 99.9595 87.9532 Q99.9595 79.2033 103.015 74.62 Q106.094 70.0135 111.904 70.0135 Z\" fill=\"#000000\" fill-rule=\"evenodd\" fill-opacity=\"1\" /><path clip-path=\"url(#clip0200)\" d=\"M 0 0 M138.918 73.7172 Q135.307 73.7172 133.478 77.282 Q131.672 80.8236 131.672 87.9532 Q131.672 95.0597 133.478 98.6245 Q135.307 102.166 138.918 102.166 Q142.552 102.166 144.357 98.6245 Q146.186 95.0597 146.186 87.9532 Q146.186 80.8236 144.357 77.282 Q142.552 73.7172 138.918 73.7172 M138.918 70.0135 Q144.728 70.0135 147.783 74.62 Q150.862 79.2033 150.862 87.9532 Q150.862 96.68 147.783 101.286 Q144.728 105.87 138.918 105.87 Q133.107 105.87 130.029 101.286 Q126.973 96.68 126.973 87.9532 Q126.973 79.2033 130.029 74.62 Q133.107 70.0135 138.918 70.0135 Z\" fill=\"#000000\" fill-rule=\"evenodd\" fill-opacity=\"1\" /><circle clip-path=\"url(#clip0202)\" cx=\"428.327\" cy=\"707.955\" r=\"14\" fill=\"#009af9\" fill-rule=\"evenodd\" fill-opacity=\"1\" stroke=\"#000000\" stroke-opacity=\"1\" stroke-width=\"3.2\"/>\n<circle clip-path=\"url(#clip0202)\" cx=\"762.52\" cy=\"995.682\" r=\"14\" fill=\"#009af9\" fill-rule=\"evenodd\" fill-opacity=\"1\" stroke=\"#000000\" stroke-opacity=\"1\" stroke-width=\"3.2\"/>\n<circle clip-path=\"url(#clip0202)\" cx=\"1096.71\" cy=\"1308.46\" r=\"14\" fill=\"#009af9\" fill-rule=\"evenodd\" fill-opacity=\"1\" stroke=\"#000000\" stroke-opacity=\"1\" stroke-width=\"3.2\"/>\n<circle clip-path=\"url(#clip0202)\" cx=\"1430.91\" cy=\"1417.81\" r=\"14\" fill=\"#009af9\" fill-rule=\"evenodd\" fill-opacity=\"1\" stroke=\"#000000\" stroke-opacity=\"1\" stroke-width=\"3.2\"/>\n<circle clip-path=\"url(#clip0202)\" cx=\"1765.1\" cy=\"1441.46\" r=\"14\" fill=\"#009af9\" fill-rule=\"evenodd\" fill-opacity=\"1\" stroke=\"#000000\" stroke-opacity=\"1\" stroke-width=\"3.2\"/>\n<circle clip-path=\"url(#clip0202)\" cx=\"2099.29\" cy=\"1445.2\" r=\"14\" fill=\"#009af9\" fill-rule=\"evenodd\" fill-opacity=\"1\" stroke=\"#000000\" stroke-opacity=\"1\" stroke-width=\"3.2\"/>\n<path clip-path=\"url(#clip0202)\" d=\"\nM294.65 707.955 L294.65 1445.72 L562.004 1445.72 L562.004 707.955 L294.65 707.955 L294.65 707.955  Z\n  \" fill=\"#e26f46\" fill-rule=\"evenodd\" fill-opacity=\"0.3\"/>\n<polyline clip-path=\"url(#clip0202)\" style=\"stroke:#000000; stroke-width:4; stroke-opacity:0.3; fill:none\" points=\"\n  294.65,707.955 294.65,1445.72 562.004,1445.72 562.004,707.955 294.65,707.955 \n  \"/>\n<path clip-path=\"url(#clip0202)\" d=\"\nM628.843 257.922 L628.843 1445.72 L896.197 1445.72 L896.197 257.922 L628.843 257.922 L628.843 257.922  Z\n  \" fill=\"#e26f46\" fill-rule=\"evenodd\" fill-opacity=\"0.3\"/>\n<polyline clip-path=\"url(#clip0202)\" style=\"stroke:#000000; stroke-width:4; stroke-opacity:0.3; fill:none\" points=\"\n  628.843,257.922 628.843,1445.72 896.197,1445.72 896.197,257.922 628.843,257.922 \n  \"/>\n<path clip-path=\"url(#clip0202)\" d=\"\nM963.036 120.661 L963.036 1445.72 L1230.39 1445.72 L1230.39 120.661 L963.036 120.661 L963.036 120.661  Z\n  \" fill=\"#e26f46\" fill-rule=\"evenodd\" fill-opacity=\"0.3\"/>\n<polyline clip-path=\"url(#clip0202)\" style=\"stroke:#000000; stroke-width:4; stroke-opacity:0.3; fill:none\" points=\"\n  963.036,120.661 963.036,1445.72 1230.39,1445.72 1230.39,120.661 963.036,120.661 \n  \"/>\n<path clip-path=\"url(#clip0202)\" d=\"\nM1297.23 92.7517 L1297.23 1445.72 L1564.58 1445.72 L1564.58 92.7517 L1297.23 92.7517 L1297.23 92.7517  Z\n  \" fill=\"#e26f46\" fill-rule=\"evenodd\" fill-opacity=\"0.3\"/>\n<polyline clip-path=\"url(#clip0202)\" style=\"stroke:#000000; stroke-width:4; stroke-opacity:0.3; fill:none\" points=\"\n  1297.23,92.7517 1297.23,1445.72 1564.58,1445.72 1564.58,92.7517 1297.23,92.7517 \n  \"/>\n<path clip-path=\"url(#clip0202)\" d=\"\nM1631.42 88.4955 L1631.42 1445.72 L1898.78 1445.72 L1898.78 88.4955 L1631.42 88.4955 L1631.42 88.4955  Z\n  \" fill=\"#e26f46\" fill-rule=\"evenodd\" fill-opacity=\"0.3\"/>\n<polyline clip-path=\"url(#clip0202)\" style=\"stroke:#000000; stroke-width:4; stroke-opacity:0.3; fill:none\" points=\"\n  1631.42,88.4955 1631.42,1445.72 1898.78,1445.72 1898.78,88.4955 1631.42,88.4955 \n  \"/>\n<path clip-path=\"url(#clip0202)\" d=\"\nM1965.61 87.9763 L1965.61 1445.72 L2232.97 1445.72 L2232.97 87.9763 L1965.61 87.9763 L1965.61 87.9763  Z\n  \" fill=\"#e26f46\" fill-rule=\"evenodd\" fill-opacity=\"0.3\"/>\n<polyline clip-path=\"url(#clip0202)\" style=\"stroke:#000000; stroke-width:4; stroke-opacity:0.3; fill:none\" points=\"\n  1965.61,87.9763 1965.61,1445.72 2232.97,1445.72 2232.97,87.9763 1965.61,87.9763 \n  \"/>\n</svg>\n"
          },
          "metadata": {
            "tags": []
          },
          "execution_count": 4
        }
      ]
    },
    {
      "cell_type": "code",
      "metadata": {
        "id": "ZOMW3OZYG8oD",
        "colab_type": "code",
        "outputId": "2c223d72-d254-44ae-b161-17817cab90c3",
        "colab": {
          "base_uri": "https://localhost:8080/",
          "height": 330
        }
      },
      "source": [
        "#using Distributions\n",
        "#using Plots\n",
        "#using Distributions\n",
        "using StatsPlots\n",
        "#using Statistics\n",
        "using HypothesisTests\n",
        "using LinearAlgebra\n",
        "#using Distances\n",
        "\n",
        "Died=[0, 1, 2, 3, 4, 5, 6]\n",
        "Days=[55, 144, 140, 95, 45, 15, 9]\n",
        "mu=sum(Died.*Days/500)\n",
        "d=Poisson(mu)\n",
        "E_Days=pdf.(d,0:6)*500\n",
        "E_Days[7]=(1-sum(pdf.(d,0:5)))*500\n",
        "E_Days\n",
        "\n",
        "plot(\n",
        "    bar(Died, Days, xticks=0:10, xlab=\"Days\"),\n",
        "    bar(Died, E_Days, xticks=0:10, xlab=\"E_Days\"),\n",
        "    layout=(1,2),  # 1行2列\n",
        "    link=:y  # y軸を共有\n",
        ")\n",
        "\n",
        "ChisqTest(Days,normalize(E_Days,1))\n",
        "#ret=ChisqTest(hcat(Days,E_Days))"
      ],
      "execution_count": 0,
      "outputs": [
        {
          "output_type": "execute_result",
          "data": {
            "text/plain": [
              "Pearson's Chi-square Test\n",
              "-------------------------\n",
              "Population details:\n",
              "    parameter of interest:   Multinomial Probabilities\n",
              "    value under h_0:         [0.1305498673399876, 0.26579952990421485, 0.2705839214424907, 0.18363628801897036, 0.09347087060165594, 0.03806133850899433, 0.017898184183686158]\n",
              "    point estimate:          [0.10934393638170974, 0.28628230616302186, 0.2783300198807157, 0.18886679920477137, 0.08946322067594434, 0.02982107355864811, 0.017892644135188866]\n",
              "    95% confidence interval: Tuple{Float64,Float64}[(0.0656, 0.1556), (0.2425, 0.3325), (0.2346, 0.3245), (0.1451, 0.2351), (0.0457, 0.1357), (0.0, 0.076), (0.0, 0.0641)]\n",
              "\n",
              "Test summary:\n",
              "    outcome with 95% confidence: fail to reject h_0\n",
              "    one-sided p-value:           0.7176\n",
              "\n",
              "Details:\n",
              "    Sample size:        503\n",
              "    statistic:          3.6968473774524364\n",
              "    degrees of freedom: 6\n",
              "    residuals:          [-1.3162946562978302, 0.8910369404950074, 0.3339765783839597, 0.27374668897878746, -0.2939920772748435, -0.9472904080784713, -0.0009287376946351219]\n",
              "    std. residuals:     [-1.4116621784970134, 1.039892342572565, 0.39104644753295276, 0.30297516393283064, -0.30877685892328993, -0.9658494789599426, -0.0009371623130228649]\n"
            ]
          },
          "metadata": {
            "tags": []
          },
          "execution_count": 14
        }
      ]
    },
    {
      "cell_type": "code",
      "metadata": {
        "id": "5r4DdTY33wH3",
        "colab_type": "code",
        "colab": {}
      },
      "source": [
        ""
      ],
      "execution_count": 0,
      "outputs": []
    }
  ]
}