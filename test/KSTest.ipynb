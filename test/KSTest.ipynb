{
  "nbformat": 4,
  "nbformat_minor": 0,
  "metadata": {
    "colab": {
      "name": "KSTest",
      "provenance": [],
      "collapsed_sections": [],
      "include_colab_link": true
    },
    "kernelspec": {
      "name": "julia-1.2",
      "display_name": "Julia 1.2"
    }
  },
  "cells": [
    {
      "cell_type": "markdown",
      "metadata": {
        "id": "view-in-github",
        "colab_type": "text"
      },
      "source": [
        "<a href=\"https://colab.research.google.com/github/DiNOV-Tokyo/juliaLang/blob/topic/test/KSTest.ipynb\" target=\"_parent\"><img src=\"https://colab.research.google.com/assets/colab-badge.svg\" alt=\"Open In Colab\"/></a>"
      ]
    },
    {
      "cell_type": "code",
      "metadata": {
        "id": "oMSuTc3pDlHv",
        "colab_type": "code",
        "outputId": "456fc7bd-9aa8-4ede-bfdc-e2df9566447e",
        "colab": {
          "base_uri": "https://localhost:8080/",
          "height": 903
        }
      },
      "source": [
        "!curl -sSL \"https://julialang-s3.julialang.org/bin/linux/x64/1.2/julia-1.2.0-linux-x86_64.tar.gz\" -o julia.tar.gz\n",
        "!tar -xzf julia.tar.gz -C /usr --strip-components 1\n",
        "!rm -rf julia.tar.gz*\n",
        "!julia -e 'using Pkg; pkg\"add IJulia; precompile\"'"
      ],
      "execution_count": 0,
      "outputs": [
        {
          "output_type": "stream",
          "text": [
            "   Cloning default registries into `~/.julia`\n",
            "   Cloning registry from \"https://github.com/JuliaRegistries/General.git\"\n",
            "\u001b[2K\u001b[?25h     Added registry `General` to `~/.julia/registries/General`\n",
            " Resolving package versions...\n",
            " Installed Conda ─────────── v1.4.1\n",
            " Installed VersionParsing ── v1.2.0\n",
            " Installed Parsers ───────── v1.0.2\n",
            " Installed ZMQ ───────────── v1.1.0\n",
            " Installed JSON ──────────── v0.21.0\n",
            " Installed BinaryProvider ── v0.5.8\n",
            " Installed IJulia ────────── v1.21.2\n",
            " Installed MbedTLS ───────── v0.7.0\n",
            " Installed SoftGlobalScope ─ v1.0.10\n",
            "  Updating `~/.julia/environments/v1.2/Project.toml`\n",
            "  [7073ff75] + IJulia v1.21.2\n",
            "  Updating `~/.julia/environments/v1.2/Manifest.toml`\n",
            "  [b99e7846] + BinaryProvider v0.5.8\n",
            "  [8f4d0f93] + Conda v1.4.1\n",
            "  [7073ff75] + IJulia v1.21.2\n",
            "  [682c06a0] + JSON v0.21.0\n",
            "  [739be429] + MbedTLS v0.7.0\n",
            "  [69de0a69] + Parsers v1.0.2\n",
            "  [b85f4697] + SoftGlobalScope v1.0.10\n",
            "  [81def892] + VersionParsing v1.2.0\n",
            "  [c2297ded] + ZMQ v1.1.0\n",
            "  [2a0f44e3] + Base64 \n",
            "  [ade2ca70] + Dates \n",
            "  [8ba89e20] + Distributed \n",
            "  [7b1f6079] + FileWatching \n",
            "  [b77e0a4c] + InteractiveUtils \n",
            "  [76f85450] + LibGit2 \n",
            "  [8f399da3] + Libdl \n",
            "  [56ddb016] + Logging \n",
            "  [d6f4376e] + Markdown \n",
            "  [a63ad114] + Mmap \n",
            "  [44cfe95a] + Pkg \n",
            "  [de0858da] + Printf \n",
            "  [3fa0cd96] + REPL \n",
            "  [9a3f8284] + Random \n",
            "  [ea8e919c] + SHA \n",
            "  [9e88b42a] + Serialization \n",
            "  [6462fe0b] + Sockets \n",
            "  [8dfed614] + Test \n",
            "  [cf7118a7] + UUIDs \n",
            "  [4ec0a83e] + Unicode \n",
            "  Building Conda ──→ `~/.julia/packages/Conda/3rPhK/deps/build.log`\n",
            "  Building ZMQ ────→ `~/.julia/packages/ZMQ/ItfqT/deps/build.log`\n",
            "  Building MbedTLS → `~/.julia/packages/MbedTLS/a1JFn/deps/build.log`\n",
            "  Building IJulia ─→ `~/.julia/packages/IJulia/DrVMH/deps/build.log`\n",
            "Precompiling project...\n",
            "Precompiling IJulia\n"
          ],
          "name": "stdout"
        }
      ]
    },
    {
      "cell_type": "code",
      "metadata": {
        "id": "N4DD3LItFPFC",
        "colab_type": "code",
        "outputId": "9275a594-e1c2-472b-d383-0a5ea1bf91bc",
        "colab": {
          "base_uri": "https://localhost:8080/",
          "height": 156
        }
      },
      "source": [
        "versioninfo()"
      ],
      "execution_count": 0,
      "outputs": [
        {
          "output_type": "stream",
          "text": [
            "Julia Version 1.2.0\n",
            "Commit c6da87ff4b (2019-08-20 00:03 UTC)\n",
            "Platform Info:\n",
            "  OS: Linux (x86_64-pc-linux-gnu)\n",
            "  CPU: Intel(R) Xeon(R) CPU @ 2.20GHz\n",
            "  WORD_SIZE: 64\n",
            "  LIBM: libopenlibm\n",
            "  LLVM: libLLVM-6.0.1 (ORCJIT, broadwell)\n"
          ],
          "name": "stdout"
        }
      ]
    },
    {
      "cell_type": "code",
      "metadata": {
        "id": "MBrc6457Fvid",
        "colab_type": "code",
        "outputId": "e31c7e6d-5fc1-4601-e62d-f1314b35038a",
        "colab": {
          "base_uri": "https://localhost:8080/",
          "height": 1000
        }
      },
      "source": [
        "using Pkg\n",
        "Pkg.add(\"HypothesisTests\")\n",
        "Pkg.add(\"Distributions\")"
      ],
      "execution_count": 0,
      "outputs": [
        {
          "output_type": "stream",
          "text": [
            "\u001b[32m\u001b[1m  Updating\u001b[22m\u001b[39m registry at `~/.julia/registries/General`\n",
            "\u001b[32m\u001b[1m  Updating\u001b[22m\u001b[39m git-repo `https://github.com/JuliaRegistries/General.git`\n",
            "\u001b[?25l\u001b[2K\u001b[?25h\u001b[32m\u001b[1m Resolving\u001b[22m\u001b[39m package versions...\n",
            "\u001b[32m\u001b[1m Installed\u001b[22m\u001b[39m DataAPI ──────────── v1.1.0\n",
            "\u001b[32m\u001b[1m Installed\u001b[22m\u001b[39m Missings ─────────── v0.4.3\n",
            "\u001b[32m\u001b[1m Installed\u001b[22m\u001b[39m URIParser ────────── v0.4.0\n",
            "\u001b[32m\u001b[1m Installed\u001b[22m\u001b[39m PDMats ───────────── v0.9.12\n",
            "\u001b[32m\u001b[1m Installed\u001b[22m\u001b[39m StatsFuns ────────── v0.9.4\n",
            "\u001b[32m\u001b[1m Installed\u001b[22m\u001b[39m Polynomials ──────── v0.5.3\n",
            "\u001b[32m\u001b[1m Installed\u001b[22m\u001b[39m StatsBase ────────── v0.33.0\n",
            "\u001b[32m\u001b[1m Installed\u001b[22m\u001b[39m HypothesisTests ──── v0.9.2\n",
            "\u001b[32m\u001b[1m Installed\u001b[22m\u001b[39m RecipesBase ──────── v1.0.0\n",
            "\u001b[32m\u001b[1m Installed\u001b[22m\u001b[39m Combinatorics ────── v1.0.0\n",
            "\u001b[32m\u001b[1m Installed\u001b[22m\u001b[39m OrderedCollections ─ v1.1.0\n",
            "\u001b[32m\u001b[1m Installed\u001b[22m\u001b[39m Rmath ────────────── v0.6.0\n",
            "\u001b[32m\u001b[1m Installed\u001b[22m\u001b[39m FillArrays ───────── v0.8.7\n",
            "\u001b[32m\u001b[1m Installed\u001b[22m\u001b[39m DataStructures ───── v0.17.12\n",
            "\u001b[32m\u001b[1m Installed\u001b[22m\u001b[39m Roots ────────────── v1.0.1\n",
            "\u001b[32m\u001b[1m Installed\u001b[22m\u001b[39m Distributions ────── v0.23.2\n",
            "\u001b[32m\u001b[1m Installed\u001b[22m\u001b[39m SortingAlgorithms ── v0.3.1\n",
            "\u001b[32m\u001b[1m Installed\u001b[22m\u001b[39m QuadGK ───────────── v2.3.1\n",
            "\u001b[32m\u001b[1m Installed\u001b[22m\u001b[39m BinDeps ──────────── v1.0.1\n",
            "\u001b[32m\u001b[1m Installed\u001b[22m\u001b[39m SpecialFunctions ─── v0.8.0\n",
            "\u001b[32m\u001b[1m Installed\u001b[22m\u001b[39m Arpack ───────────── v0.3.2\n",
            "\u001b[32m\u001b[1m  Updating\u001b[22m\u001b[39m `~/.julia/environments/v1.2/Project.toml`\n",
            " \u001b[90m [09f84164]\u001b[39m\u001b[92m + HypothesisTests v0.9.2\u001b[39m\n",
            "\u001b[32m\u001b[1m  Updating\u001b[22m\u001b[39m `~/.julia/environments/v1.2/Manifest.toml`\n",
            " \u001b[90m [7d9fca2a]\u001b[39m\u001b[92m + Arpack v0.3.2\u001b[39m\n",
            " \u001b[90m [9e28174c]\u001b[39m\u001b[92m + BinDeps v1.0.1\u001b[39m\n",
            " \u001b[90m [861a8166]\u001b[39m\u001b[92m + Combinatorics v1.0.0\u001b[39m\n",
            " \u001b[90m [9a962f9c]\u001b[39m\u001b[92m + DataAPI v1.1.0\u001b[39m\n",
            " \u001b[90m [864edb3b]\u001b[39m\u001b[92m + DataStructures v0.17.12\u001b[39m\n",
            " \u001b[90m [31c24e10]\u001b[39m\u001b[92m + Distributions v0.23.2\u001b[39m\n",
            " \u001b[90m [1a297f60]\u001b[39m\u001b[92m + FillArrays v0.8.7\u001b[39m\n",
            " \u001b[90m [09f84164]\u001b[39m\u001b[92m + HypothesisTests v0.9.2\u001b[39m\n",
            " \u001b[90m [e1d29d7a]\u001b[39m\u001b[92m + Missings v0.4.3\u001b[39m\n",
            " \u001b[90m [bac558e1]\u001b[39m\u001b[92m + OrderedCollections v1.1.0\u001b[39m\n",
            " \u001b[90m [90014a1f]\u001b[39m\u001b[92m + PDMats v0.9.12\u001b[39m\n",
            " \u001b[90m [f27b6e38]\u001b[39m\u001b[92m + Polynomials v0.5.3\u001b[39m\n",
            " \u001b[90m [1fd47b50]\u001b[39m\u001b[92m + QuadGK v2.3.1\u001b[39m\n",
            " \u001b[90m [3cdcf5f2]\u001b[39m\u001b[92m + RecipesBase v1.0.0\u001b[39m\n",
            " \u001b[90m [79098fc4]\u001b[39m\u001b[92m + Rmath v0.6.0\u001b[39m\n",
            " \u001b[90m [f2b01f46]\u001b[39m\u001b[92m + Roots v1.0.1\u001b[39m\n",
            " \u001b[90m [a2af1166]\u001b[39m\u001b[92m + SortingAlgorithms v0.3.1\u001b[39m\n",
            " \u001b[90m [276daf66]\u001b[39m\u001b[92m + SpecialFunctions v0.8.0\u001b[39m\n",
            " \u001b[90m [2913bbd2]\u001b[39m\u001b[92m + StatsBase v0.33.0\u001b[39m\n",
            " \u001b[90m [4c63d2b9]\u001b[39m\u001b[92m + StatsFuns v0.9.4\u001b[39m\n",
            " \u001b[90m [30578b45]\u001b[39m\u001b[92m + URIParser v0.4.0\u001b[39m\n",
            " \u001b[90m [37e2e46d]\u001b[39m\u001b[92m + LinearAlgebra \u001b[39m\n",
            " \u001b[90m [2f01184e]\u001b[39m\u001b[92m + SparseArrays \u001b[39m\n",
            " \u001b[90m [10745b16]\u001b[39m\u001b[92m + Statistics \u001b[39m\n",
            " \u001b[90m [4607b0f0]\u001b[39m\u001b[92m + SuiteSparse \u001b[39m\n",
            "\u001b[32m\u001b[1m  Building\u001b[22m\u001b[39m Rmath ───────────→ `~/.julia/packages/Rmath/BoBag/deps/build.log`\n",
            "\u001b[32m\u001b[1m  Building\u001b[22m\u001b[39m SpecialFunctions → `~/.julia/packages/SpecialFunctions/ne2iw/deps/build.log`\n",
            "\u001b[32m\u001b[1m  Building\u001b[22m\u001b[39m Arpack ──────────→ `~/.julia/packages/Arpack/zCmTA/deps/build.log`\n",
            "\u001b[32m\u001b[1m Resolving\u001b[22m\u001b[39m package versions...\n",
            "\u001b[32m\u001b[1m Installed\u001b[22m\u001b[39m RecipesBase ─ v0.8.0\n",
            "\u001b[32m\u001b[1m Installed\u001b[22m\u001b[39m Polynomials ─ v0.6.1\n",
            "\u001b[32m\u001b[1m  Updating\u001b[22m\u001b[39m `~/.julia/environments/v1.2/Project.toml`\n",
            " \u001b[90m [31c24e10]\u001b[39m\u001b[92m + Distributions v0.23.2\u001b[39m\n",
            "\u001b[32m\u001b[1m  Updating\u001b[22m\u001b[39m `~/.julia/environments/v1.2/Manifest.toml`\n",
            " \u001b[90m [f27b6e38]\u001b[39m\u001b[93m ↑ Polynomials v0.5.3 ⇒ v0.6.1\u001b[39m\n",
            " \u001b[90m [3cdcf5f2]\u001b[39m\u001b[95m ↓ RecipesBase v1.0.0 ⇒ v0.8.0\u001b[39m\n"
          ],
          "name": "stdout"
        }
      ]
    },
    {
      "cell_type": "code",
      "metadata": {
        "id": "ZOMW3OZYG8oD",
        "colab_type": "code",
        "outputId": "572bee09-113e-4433-bc95-062ed273a34f",
        "colab": {
          "base_uri": "https://localhost:8080/",
          "height": 312
        }
      },
      "source": [
        "using HypothesisTests\n",
        "using Distributions\n",
        "\n",
        "dat = rand(Normal(),100)\n",
        "mu = mean(dat)\n",
        "sd = std(dat)\n",
        "\n",
        "println(ExactOneSampleKSTest(dat, Normal(mu, sd)))\n",
        "  \n",
        "  # https://qiita.com/mrkn/items/7985b3b20d9e24fff46d"
      ],
      "execution_count": 0,
      "outputs": [
        {
          "output_type": "stream",
          "text": [
            "-0.07878297359699711\n",
            "0.9737707040056844\n",
            "Exact one sample Kolmogorov-Smirnov test\n",
            "----------------------------------------\n",
            "Population details:\n",
            "    parameter of interest:   Supremum of CDF differences\n",
            "    value under h_0:         0.0\n",
            "    point estimate:          0.05161355711887612\n",
            "\n",
            "Test summary:\n",
            "    outcome with 95% confidence: fail to reject h_0\n",
            "    two-sided p-value:           0.9401\n",
            "\n",
            "Details:\n",
            "    number of observations:   100\n",
            "\n"
          ],
          "name": "stdout"
        },
        {
          "output_type": "execute_result",
          "data": {
            "text/plain": [
              "testnormal (generic function with 1 method)"
            ]
          },
          "metadata": {
            "tags": []
          },
          "execution_count": 10
        }
      ]
    },
    {
      "cell_type": "code",
      "metadata": {
        "id": "HOanZrPNoZIH",
        "colab_type": "code",
        "colab": {}
      },
      "source": [
        ""
      ],
      "execution_count": 0,
      "outputs": []
    }
  ]
}