{
  "nbformat": 4,
  "nbformat_minor": 0,
  "metadata": {
    "colab": {
      "name": "julia_on_Colab.ipynb",
      "provenance": [],
      "collapsed_sections": [],
      "include_colab_link": true
    },
    "kernelspec": {
      "name": "julia-1.2",
      "display_name": "Julia 1.2"
    }
  },
  "cells": [
    {
      "cell_type": "markdown",
      "metadata": {
        "id": "view-in-github",
        "colab_type": "text"
      },
      "source": [
        "<a href=\"https://colab.research.google.com/github/DiNOV-Tokyo/juliaLang/blob/topic/julia_on_Colab.ipynb\" target=\"_parent\"><img src=\"https://colab.research.google.com/assets/colab-badge.svg\" alt=\"Open In Colab\"/></a>"
      ]
    },
    {
      "cell_type": "code",
      "metadata": {
        "id": "oMSuTc3pDlHv",
        "colab_type": "code",
        "outputId": "3bb999f7-9251-465e-9131-02260b2f1fd3",
        "colab": {
          "base_uri": "https://localhost:8080/",
          "height": 903
        }
      },
      "source": [
        "!curl -sSL \"https://julialang-s3.julialang.org/bin/linux/x64/1.2/julia-1.2.0-linux-x86_64.tar.gz\" -o julia.tar.gz\n",
        "!tar -xzf julia.tar.gz -C /usr --strip-components 1\n",
        "!rm -rf julia.tar.gz*\n",
        "!julia -e 'using Pkg; pkg\"add IJulia; precompile\"'"
      ],
      "execution_count": 1,
      "outputs": [
        {
          "output_type": "stream",
          "text": [
            "   Cloning default registries into `~/.julia`\n",
            "   Cloning registry from \"https://github.com/JuliaRegistries/General.git\"\n",
            "\u001b[2K\u001b[?25h     Added registry `General` to `~/.julia/registries/General`\n",
            " Resolving package versions...\n",
            " Installed VersionParsing ── v1.2.0\n",
            " Installed IJulia ────────── v1.21.1\n",
            " Installed MbedTLS ───────── v0.7.0\n",
            " Installed Conda ─────────── v1.4.1\n",
            " Installed Parsers ───────── v1.0.1\n",
            " Installed BinaryProvider ── v0.5.8\n",
            " Installed JSON ──────────── v0.21.0\n",
            " Installed ZMQ ───────────── v1.1.0\n",
            " Installed SoftGlobalScope ─ v1.0.10\n",
            "  Updating `~/.julia/environments/v1.2/Project.toml`\n",
            "  [7073ff75] + IJulia v1.21.1\n",
            "  Updating `~/.julia/environments/v1.2/Manifest.toml`\n",
            "  [b99e7846] + BinaryProvider v0.5.8\n",
            "  [8f4d0f93] + Conda v1.4.1\n",
            "  [7073ff75] + IJulia v1.21.1\n",
            "  [682c06a0] + JSON v0.21.0\n",
            "  [739be429] + MbedTLS v0.7.0\n",
            "  [69de0a69] + Parsers v1.0.1\n",
            "  [b85f4697] + SoftGlobalScope v1.0.10\n",
            "  [81def892] + VersionParsing v1.2.0\n",
            "  [c2297ded] + ZMQ v1.1.0\n",
            "  [2a0f44e3] + Base64 \n",
            "  [ade2ca70] + Dates \n",
            "  [8ba89e20] + Distributed \n",
            "  [7b1f6079] + FileWatching \n",
            "  [b77e0a4c] + InteractiveUtils \n",
            "  [76f85450] + LibGit2 \n",
            "  [8f399da3] + Libdl \n",
            "  [56ddb016] + Logging \n",
            "  [d6f4376e] + Markdown \n",
            "  [a63ad114] + Mmap \n",
            "  [44cfe95a] + Pkg \n",
            "  [de0858da] + Printf \n",
            "  [3fa0cd96] + REPL \n",
            "  [9a3f8284] + Random \n",
            "  [ea8e919c] + SHA \n",
            "  [9e88b42a] + Serialization \n",
            "  [6462fe0b] + Sockets \n",
            "  [8dfed614] + Test \n",
            "  [cf7118a7] + UUIDs \n",
            "  [4ec0a83e] + Unicode \n",
            "  Building Conda ──→ `~/.julia/packages/Conda/3rPhK/deps/build.log`\n",
            "  Building ZMQ ────→ `~/.julia/packages/ZMQ/ItfqT/deps/build.log`\n",
            "  Building MbedTLS → `~/.julia/packages/MbedTLS/a1JFn/deps/build.log`\n",
            "  Building IJulia ─→ `~/.julia/packages/IJulia/yLI42/deps/build.log`\n",
            "Precompiling project...\n",
            "Precompiling IJulia\n"
          ],
          "name": "stdout"
        }
      ]
    },
    {
      "cell_type": "code",
      "metadata": {
        "id": "N4DD3LItFPFC",
        "colab_type": "code",
        "outputId": "3cae5bd9-a2be-4b65-c9e6-51c46c68a467",
        "colab": {
          "base_uri": "https://localhost:8080/",
          "height": 156
        }
      },
      "source": [
        "versioninfo()"
      ],
      "execution_count": 1,
      "outputs": [
        {
          "output_type": "stream",
          "text": [
            "Julia Version 1.2.0\n",
            "Commit c6da87ff4b (2019-08-20 00:03 UTC)\n",
            "Platform Info:\n",
            "  OS: Linux (x86_64-pc-linux-gnu)\n",
            "  CPU: Intel(R) Xeon(R) CPU @ 2.30GHz\n",
            "  WORD_SIZE: 64\n",
            "  LIBM: libopenlibm\n",
            "  LLVM: libLLVM-6.0.1 (ORCJIT, haswell)\n"
          ],
          "name": "stdout"
        }
      ]
    },
    {
      "cell_type": "code",
      "metadata": {
        "id": "MBrc6457Fvid",
        "colab_type": "code",
        "colab": {
          "base_uri": "https://localhost:8080/",
          "height": 573
        },
        "outputId": "1606b617-644e-4621-ed7d-09b37adee889"
      },
      "source": [
        "using Pkg\n",
        "Pkg.add(\"CSV\")\n",
        "Pkg.add(\"RDatasets\")"
      ],
      "execution_count": 4,
      "outputs": [
        {
          "output_type": "stream",
          "text": [
            "\u001b[32m\u001b[1m Resolving\u001b[22m\u001b[39m package versions...\n",
            "\u001b[32m\u001b[1m  Updating\u001b[22m\u001b[39m `~/.julia/environments/v1.2/Project.toml`\n",
            "\u001b[90m [no changes]\u001b[39m\n",
            "\u001b[32m\u001b[1m  Updating\u001b[22m\u001b[39m `~/.julia/environments/v1.2/Manifest.toml`\n",
            "\u001b[90m [no changes]\u001b[39m\n",
            "\u001b[32m\u001b[1m Resolving\u001b[22m\u001b[39m package versions...\n",
            "\u001b[32m\u001b[1m Installed\u001b[22m\u001b[39m Requires ─────────── v1.0.1\n",
            "\u001b[32m\u001b[1m Installed\u001b[22m\u001b[39m ExprTools ────────── v0.1.1\n",
            "\u001b[32m\u001b[1m Installed\u001b[22m\u001b[39m CodecZlib ────────── v0.6.0\n",
            "\u001b[32m\u001b[1m Installed\u001b[22m\u001b[39m Mocking ──────────── v0.7.1\n",
            "\u001b[32m\u001b[1m Installed\u001b[22m\u001b[39m TimeZones ────────── v1.0.1\n",
            "\u001b[32m\u001b[1m Installed\u001b[22m\u001b[39m TranscodingStreams ─ v0.9.5\n",
            "\u001b[32m\u001b[1m Installed\u001b[22m\u001b[39m RData ────────────── v0.7.1\n",
            "\u001b[32m\u001b[1m Installed\u001b[22m\u001b[39m EzXML ────────────── v1.0.0\n",
            "\u001b[32m\u001b[1m Installed\u001b[22m\u001b[39m FileIO ───────────── v1.2.4\n",
            "\u001b[32m\u001b[1m Installed\u001b[22m\u001b[39m RDatasets ────────── v0.6.7\n",
            "\u001b[32m\u001b[1m  Updating\u001b[22m\u001b[39m `~/.julia/environments/v1.2/Project.toml`\n",
            " \u001b[90m [ce6b1742]\u001b[39m\u001b[92m + RDatasets v0.6.7\u001b[39m\n",
            "\u001b[32m\u001b[1m  Updating\u001b[22m\u001b[39m `~/.julia/environments/v1.2/Manifest.toml`\n",
            " \u001b[90m [944b1d66]\u001b[39m\u001b[92m + CodecZlib v0.6.0\u001b[39m\n",
            " \u001b[90m [e2ba6199]\u001b[39m\u001b[92m + ExprTools v0.1.1\u001b[39m\n",
            " \u001b[90m [8f5d6c58]\u001b[39m\u001b[92m + EzXML v1.0.0\u001b[39m\n",
            " \u001b[90m [5789e2e9]\u001b[39m\u001b[92m + FileIO v1.2.4\u001b[39m\n",
            " \u001b[90m [78c3b35d]\u001b[39m\u001b[92m + Mocking v0.7.1\u001b[39m\n",
            " \u001b[90m [df47a6cb]\u001b[39m\u001b[92m + RData v0.7.1\u001b[39m\n",
            " \u001b[90m [ce6b1742]\u001b[39m\u001b[92m + RDatasets v0.6.7\u001b[39m\n",
            " \u001b[90m [ae029012]\u001b[39m\u001b[92m + Requires v1.0.1\u001b[39m\n",
            " \u001b[90m [f269a46b]\u001b[39m\u001b[92m + TimeZones v1.0.1\u001b[39m\n",
            " \u001b[90m [3bb67fe8]\u001b[39m\u001b[92m + TranscodingStreams v0.9.5\u001b[39m\n",
            "\u001b[32m\u001b[1m  Building\u001b[22m\u001b[39m EzXML ────→ `~/.julia/packages/EzXML/BF7Lf/deps/build.log`\n",
            "\u001b[32m\u001b[1m  Building\u001b[22m\u001b[39m TimeZones → `~/.julia/packages/TimeZones/zymSN/deps/build.log`\n",
            "\u001b[32m\u001b[1m  Building\u001b[22m\u001b[39m CodecZlib → `~/.julia/packages/CodecZlib/5t9zO/deps/build.log`\n"
          ],
          "name": "stdout"
        }
      ]
    },
    {
      "cell_type": "code",
      "metadata": {
        "id": "ZOMW3OZYG8oD",
        "colab_type": "code",
        "outputId": "e1411714-f750-47a2-faa7-4c90f999a406",
        "colab": {
          "base_uri": "https://localhost:8080/",
          "height": 767
        }
      },
      "source": [
        "using RDatasets\n",
        "RDatasets.datasets(\"datasets\")\n",
        "dat = RDatasets.dataset(\"datasets\",\"PlantGrowth\")"
      ],
      "execution_count": 6,
      "outputs": [
        {
          "output_type": "stream",
          "text": [
            "┌ Info: Precompiling RDatasets [ce6b1742-4840-55fa-b093-852dadbb1d8b]\n",
            "└ @ Base loading.jl:1242\n"
          ],
          "name": "stderr"
        },
        {
          "output_type": "execute_result",
          "data": {
            "text/latex": "\\begin{tabular}{r|cc}\n\t& Weight & Group\\\\\n\t\\hline\n\t& Float64 & Categorical…\\\\\n\t\\hline\n\t1 & 4.17 & ctrl \\\\\n\t2 & 5.58 & ctrl \\\\\n\t3 & 5.18 & ctrl \\\\\n\t4 & 6.11 & ctrl \\\\\n\t5 & 4.5 & ctrl \\\\\n\t6 & 4.61 & ctrl \\\\\n\t7 & 5.17 & ctrl \\\\\n\t8 & 4.53 & ctrl \\\\\n\t9 & 5.33 & ctrl \\\\\n\t10 & 5.14 & ctrl \\\\\n\t11 & 4.81 & trt1 \\\\\n\t12 & 4.17 & trt1 \\\\\n\t13 & 4.41 & trt1 \\\\\n\t14 & 3.59 & trt1 \\\\\n\t15 & 5.87 & trt1 \\\\\n\t16 & 3.83 & trt1 \\\\\n\t17 & 6.03 & trt1 \\\\\n\t18 & 4.89 & trt1 \\\\\n\t19 & 4.32 & trt1 \\\\\n\t20 & 4.69 & trt1 \\\\\n\t21 & 6.31 & trt2 \\\\\n\t22 & 5.12 & trt2 \\\\\n\t23 & 5.54 & trt2 \\\\\n\t24 & 5.5 & trt2 \\\\\n\t25 & 5.37 & trt2 \\\\\n\t26 & 5.29 & trt2 \\\\\n\t27 & 4.92 & trt2 \\\\\n\t28 & 6.15 & trt2 \\\\\n\t29 & 5.8 & trt2 \\\\\n\t30 & 5.26 & trt2 \\\\\n\\end{tabular}\n",
            "text/html": [
              "<table class=\"data-frame\"><thead><tr><th></th><th>Weight</th><th>Group</th></tr><tr><th></th><th>Float64</th><th>Categorical…</th></tr></thead><tbody><p>30 rows × 2 columns</p><tr><th>1</th><td>4.17</td><td>ctrl</td></tr><tr><th>2</th><td>5.58</td><td>ctrl</td></tr><tr><th>3</th><td>5.18</td><td>ctrl</td></tr><tr><th>4</th><td>6.11</td><td>ctrl</td></tr><tr><th>5</th><td>4.5</td><td>ctrl</td></tr><tr><th>6</th><td>4.61</td><td>ctrl</td></tr><tr><th>7</th><td>5.17</td><td>ctrl</td></tr><tr><th>8</th><td>4.53</td><td>ctrl</td></tr><tr><th>9</th><td>5.33</td><td>ctrl</td></tr><tr><th>10</th><td>5.14</td><td>ctrl</td></tr><tr><th>11</th><td>4.81</td><td>trt1</td></tr><tr><th>12</th><td>4.17</td><td>trt1</td></tr><tr><th>13</th><td>4.41</td><td>trt1</td></tr><tr><th>14</th><td>3.59</td><td>trt1</td></tr><tr><th>15</th><td>5.87</td><td>trt1</td></tr><tr><th>16</th><td>3.83</td><td>trt1</td></tr><tr><th>17</th><td>6.03</td><td>trt1</td></tr><tr><th>18</th><td>4.89</td><td>trt1</td></tr><tr><th>19</th><td>4.32</td><td>trt1</td></tr><tr><th>20</th><td>4.69</td><td>trt1</td></tr><tr><th>21</th><td>6.31</td><td>trt2</td></tr><tr><th>22</th><td>5.12</td><td>trt2</td></tr><tr><th>23</th><td>5.54</td><td>trt2</td></tr><tr><th>24</th><td>5.5</td><td>trt2</td></tr><tr><th>25</th><td>5.37</td><td>trt2</td></tr><tr><th>26</th><td>5.29</td><td>trt2</td></tr><tr><th>27</th><td>4.92</td><td>trt2</td></tr><tr><th>28</th><td>6.15</td><td>trt2</td></tr><tr><th>29</th><td>5.8</td><td>trt2</td></tr><tr><th>30</th><td>5.26</td><td>trt2</td></tr></tbody></table>"
            ],
            "text/plain": [
              "30×2 DataFrame\n",
              "│ Row │ Weight  │ Group        │\n",
              "│     │ \u001b[90mFloat64\u001b[39m │ \u001b[90mCategorical…\u001b[39m │\n",
              "├─────┼─────────┼──────────────┤\n",
              "│ 1   │ 4.17    │ ctrl         │\n",
              "│ 2   │ 5.58    │ ctrl         │\n",
              "│ 3   │ 5.18    │ ctrl         │\n",
              "│ 4   │ 6.11    │ ctrl         │\n",
              "│ 5   │ 4.5     │ ctrl         │\n",
              "│ 6   │ 4.61    │ ctrl         │\n",
              "│ 7   │ 5.17    │ ctrl         │\n",
              "│ 8   │ 4.53    │ ctrl         │\n",
              "│ 9   │ 5.33    │ ctrl         │\n",
              "│ 10  │ 5.14    │ ctrl         │\n",
              "⋮\n",
              "│ 20  │ 4.69    │ trt1         │\n",
              "│ 21  │ 6.31    │ trt2         │\n",
              "│ 22  │ 5.12    │ trt2         │\n",
              "│ 23  │ 5.54    │ trt2         │\n",
              "│ 24  │ 5.5     │ trt2         │\n",
              "│ 25  │ 5.37    │ trt2         │\n",
              "│ 26  │ 5.29    │ trt2         │\n",
              "│ 27  │ 4.92    │ trt2         │\n",
              "│ 28  │ 6.15    │ trt2         │\n",
              "│ 29  │ 5.8     │ trt2         │\n",
              "│ 30  │ 5.26    │ trt2         │"
            ]
          },
          "metadata": {
            "tags": []
          },
          "execution_count": 6
        }
      ]
    }
  ]
}